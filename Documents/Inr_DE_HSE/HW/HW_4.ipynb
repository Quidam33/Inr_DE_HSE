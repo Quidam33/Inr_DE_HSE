{
 "cells": [
  {
   "cell_type": "markdown",
   "id": "81dd99a5",
   "metadata": {},
   "source": [
    "# Задание 1"
   ]
  },
  {
   "cell_type": "code",
   "execution_count": 4,
   "id": "07f107bd",
   "metadata": {},
   "outputs": [],
   "source": [
    "import re\n",
    "\n",
    "def check_car_numbers(number):\n",
    "    valid_letters = 'АВЕКМНОРСТУХ' \n",
    "    regex = fr\"^[{valid_letters}]\\d{{3}}[{valid_letters}]{{2}}\\d{{2,3}}$\"\n",
    "    \n",
    "    if re.match(regex, number):\n",
    "        body = number[:6]\n",
    "        region = number[6:]\n",
    "        return f'Номер {body} валиден. Регион: {region}'\n",
    "    else:\n",
    "        return f'Номер {number} не валиден'"
   ]
  },
  {
   "cell_type": "code",
   "execution_count": 6,
   "id": "7b95d8b1",
   "metadata": {},
   "outputs": [
    {
     "name": "stdout",
     "output_type": "stream",
     "text": [
      "Номер А222ВС валиден. Регион: 96\n",
      "Номер АБ22ВВ193 не валиден\n"
     ]
    }
   ],
   "source": [
    "car_numbers = [\"А222ВС96\", \"АБ22ВВ193\"]\n",
    "for car_number in car_numbers:\n",
    "    res = check_car_numbers(car_number)\n",
    "    print(res)"
   ]
  },
  {
   "cell_type": "markdown",
   "id": "5376866f",
   "metadata": {},
   "source": [
    "# Задание 2"
   ]
  },
  {
   "cell_type": "code",
   "execution_count": 19,
   "id": "5d092d92",
   "metadata": {},
   "outputs": [],
   "source": [
    "def remove_repeateable_words(text):\n",
    "    regex = r'\\b(\\w+)(\\s+\\1\\b)+'\n",
    "    result = re.sub(regex, r'\\1', text, flags=re.IGNORECASE)\n",
    "    return result"
   ]
  },
  {
   "cell_type": "code",
   "execution_count": 20,
   "id": "2a8cb935",
   "metadata": {},
   "outputs": [
    {
     "name": "stdout",
     "output_type": "stream",
     "text": [
      "Напишите функцию, которая будет \n",
      "удалять все последовательные повторы слов из заданной \n",
      "строки при помощи регулярных выражений\n"
     ]
    }
   ],
   "source": [
    "some_string = ('''Напишите функцию функцию, которая будет будет будет будет \n",
    "удалять все все все все последовательные повторы слов из из из из заданной \n",
    "строки строки при помощи регулярных выражений''')\n",
    "\n",
    "print(remove_repeateable_words(some_string))"
   ]
  },
  {
   "cell_type": "code",
   "execution_count": null,
   "id": "f34dbaea",
   "metadata": {},
   "outputs": [],
   "source": []
  }
 ],
 "metadata": {
  "kernelspec": {
   "display_name": "Python 3 (ipykernel)",
   "language": "python",
   "name": "python3"
  },
  "language_info": {
   "codemirror_mode": {
    "name": "ipython",
    "version": 3
   },
   "file_extension": ".py",
   "mimetype": "text/x-python",
   "name": "python",
   "nbconvert_exporter": "python",
   "pygments_lexer": "ipython3",
   "version": "3.11.5"
  }
 },
 "nbformat": 4,
 "nbformat_minor": 5
}
