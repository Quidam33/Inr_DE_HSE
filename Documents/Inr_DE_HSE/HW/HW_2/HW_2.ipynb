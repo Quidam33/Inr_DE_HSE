{
 "cells": [
  {
   "cell_type": "code",
   "execution_count": 59,
   "id": "618f582b",
   "metadata": {},
   "outputs": [],
   "source": [
    "from datetime import datetime, date, timedelta\n",
    "from typing import List"
   ]
  },
  {
   "cell_type": "markdown",
   "id": "04ac7333",
   "metadata": {},
   "source": [
    "## Задание 1"
   ]
  },
  {
   "cell_type": "code",
   "execution_count": 29,
   "id": "fb006b58",
   "metadata": {},
   "outputs": [],
   "source": [
    "def journals_date(date_s: str, journal: str) -> datetime:\n",
    "    journals = {\n",
    "        'The Moscow Times': '%A, %B %d, %Y', # Wednesday, October 2, 2002\n",
    "        'The Guardian': '%A, %y.%m.%d', # Friday, 11.10.13\n",
    "        'Daily News': '%A, %d %B %Y' # Thursday, 18 August 1977\n",
    "    }\n",
    "    return datetime.strptime(date_s, journals.get(journal))"
   ]
  },
  {
   "cell_type": "code",
   "execution_count": 30,
   "id": "a17d5b4d",
   "metadata": {},
   "outputs": [
    {
     "data": {
      "text/plain": [
       "datetime.datetime(2002, 10, 2, 0, 0)"
      ]
     },
     "execution_count": 30,
     "metadata": {},
     "output_type": "execute_result"
    }
   ],
   "source": [
    "journals_date('Wednesday, October 2, 2002', 'The Moscow Times')"
   ]
  },
  {
   "cell_type": "code",
   "execution_count": 31,
   "id": "aa781010",
   "metadata": {},
   "outputs": [
    {
     "data": {
      "text/plain": [
       "datetime.datetime(2011, 10, 13, 0, 0)"
      ]
     },
     "execution_count": 31,
     "metadata": {},
     "output_type": "execute_result"
    }
   ],
   "source": [
    "journals_date('Friday, 11.10.13', 'The Guardian')"
   ]
  },
  {
   "cell_type": "code",
   "execution_count": 32,
   "id": "42ccf718",
   "metadata": {},
   "outputs": [
    {
     "data": {
      "text/plain": [
       "datetime.datetime(1977, 8, 18, 0, 0)"
      ]
     },
     "execution_count": 32,
     "metadata": {},
     "output_type": "execute_result"
    }
   ],
   "source": [
    "journals_date('Thursday, 18 August 1977', 'Daily News')"
   ]
  },
  {
   "cell_type": "markdown",
   "id": "51036641",
   "metadata": {},
   "source": [
    "## Задание 2"
   ]
  },
  {
   "cell_type": "code",
   "execution_count": 69,
   "id": "9485b8ce",
   "metadata": {},
   "outputs": [],
   "source": [
    "def date_range(start_date: str, end_date: str) -> List[date]:\n",
    "    try:\n",
    "        start_date_dt = datetime.strptime(start_date, '%Y-%m-%d')\n",
    "        end_date_dt = datetime.strptime(end_date, '%Y-%m-%d')\n",
    "        if start_date_dt > end_date_dt:\n",
    "            return []\n",
    "        else:\n",
    "            return [(start_date_dt + timedelta(days=x)).strftime('%Y-%m-%d') \n",
    "                    for x in range((end_date_dt - start_date_dt).days + 1)]\n",
    "    except ValueError as e:\n",
    "        return []"
   ]
  },
  {
   "cell_type": "code",
   "execution_count": 70,
   "id": "34c6dab2",
   "metadata": {},
   "outputs": [
    {
     "data": {
      "text/plain": [
       "['2022-01-01', '2022-01-02', '2022-01-03']"
      ]
     },
     "execution_count": 70,
     "metadata": {},
     "output_type": "execute_result"
    }
   ],
   "source": [
    "date_range('2022-01-01', '2022-01-03')"
   ]
  },
  {
   "cell_type": "code",
   "execution_count": null,
   "id": "898f64ce",
   "metadata": {},
   "outputs": [],
   "source": [
    "!git add ."
   ]
  }
 ],
 "metadata": {
  "kernelspec": {
   "display_name": "Python 3 (ipykernel)",
   "language": "python",
   "name": "python3"
  },
  "language_info": {
   "codemirror_mode": {
    "name": "ipython",
    "version": 3
   },
   "file_extension": ".py",
   "mimetype": "text/x-python",
   "name": "python",
   "nbconvert_exporter": "python",
   "pygments_lexer": "ipython3",
   "version": "3.11.4"
  }
 },
 "nbformat": 4,
 "nbformat_minor": 5
}
