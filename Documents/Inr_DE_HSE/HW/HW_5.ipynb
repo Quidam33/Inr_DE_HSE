{
 "cells": [
  {
   "cell_type": "code",
   "execution_count": 2,
   "id": "0e9a3439",
   "metadata": {},
   "outputs": [],
   "source": [
    "import time\n",
    "from concurrent.futures import ThreadPoolExecutor\n",
    "\n",
    "def formula_1(x):\n",
    "    return x\n",
    "\n",
    "def formula_2(x):\n",
    "    return 2 * x\n",
    "\n",
    "def formula_3(x1, x2):\n",
    "    return x1 + x2\n",
    "\n",
    "def compute_iterations(num_iterations):\n",
    "    results_formula_1 = []\n",
    "    results_formula_2 = []\n",
    "\n",
    "    start_time = time.time()\n",
    "    with ThreadPoolExecutor(max_workers=2) as executor:\n",
    "        for i in range(num_iterations):\n",
    "            future1 = executor.submit(formula_1, i)\n",
    "            future2 = executor.submit(formula_2, i)\n",
    "            results_formula_1.append(future1.result())\n",
    "            results_formula_2.append(future2.result())\n",
    "    time_formula_1_and_2 = time.time() - start_time\n",
    "\n",
    "    start_time = time.time()\n",
    "    results_formula_3 = [formula_3(r1, r2) for r1, r2 in zip(results_formula_1, results_formula_2)]\n",
    "    time_formula_3 = time.time() - start_time\n",
    "\n",
    "    return time_formula_1_and_2, time_formula_3\n",
    "\n",
    "time_10k_formulas_1_and_2, time_10k_formula_3 = compute_iterations(10000)\n",
    "\n",
    "time_100k_formulas_1_and_2, time_100k_formula_3 = compute_iterations(100000)\n"
   ]
  },
  {
   "cell_type": "code",
   "execution_count": 3,
   "id": "fb4d5faf",
   "metadata": {},
   "outputs": [
    {
     "name": "stdout",
     "output_type": "stream",
     "text": [
      "10,000 итераций:\n",
      " - Формула 1 и 2 (в параллели): 0.9227 секунд\n",
      " - Формула 3 (последовательно): 0.0011 секунд\n",
      "100,000 итераций:\n",
      " - Формула 1 и 2 (в параллели): 8.5306 секунд\n",
      " - Формула 3 (последовательно): 0.0140 секунд\n"
     ]
    }
   ],
   "source": [
    "print(f\"10,000 итераций:\")\n",
    "print(f\" - Формула 1 и 2 (в параллели): {time_10k_formulas_1_and_2:.4f} секунд\")\n",
    "print(f\" - Формула 3 (последовательно): {time_10k_formula_3:.4f} секунд\")\n",
    "\n",
    "print(f\"100,000 итераций:\")\n",
    "print(f\" - Формула 1 и 2 (в параллели): {time_100k_formulas_1_and_2:.4f} секунд\")\n",
    "print(f\" - Формула 3 (последовательно): {time_100k_formula_3:.4f} секунд\")\n"
   ]
  },
  {
   "cell_type": "code",
   "execution_count": null,
   "id": "7ea3e87c",
   "metadata": {},
   "outputs": [],
   "source": []
  }
 ],
 "metadata": {
  "kernelspec": {
   "display_name": "Python 3 (ipykernel)",
   "language": "python",
   "name": "python3"
  },
  "language_info": {
   "codemirror_mode": {
    "name": "ipython",
    "version": 3
   },
   "file_extension": ".py",
   "mimetype": "text/x-python",
   "name": "python",
   "nbconvert_exporter": "python",
   "pygments_lexer": "ipython3",
   "version": "3.11.5"
  }
 },
 "nbformat": 4,
 "nbformat_minor": 5
}
