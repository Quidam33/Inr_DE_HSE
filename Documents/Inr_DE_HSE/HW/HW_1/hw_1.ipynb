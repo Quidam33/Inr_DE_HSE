{
 "cells": [
  {
   "cell_type": "code",
   "execution_count": 8,
   "id": "1f7bcf6b",
   "metadata": {},
   "outputs": [],
   "source": [
    "import json"
   ]
  },
  {
   "cell_type": "code",
   "execution_count": 18,
   "id": "e7e7baec",
   "metadata": {},
   "outputs": [],
   "source": [
    "i = 0\n",
    "final_dict = {}\n",
    "\n",
    "with open('purchase_log.txt', encoding='utf-8') as f:\n",
    "    for line in f:\n",
    "        if i == 0:\n",
    "            continue\n",
    "        else:\n",
    "            line = line.strip() \n",
    "            dict_ = json.loads(line)\n",
    "            final_dict[dict_['user_id']] = dict_['category']"
   ]
  },
  {
   "cell_type": "code",
   "execution_count": 19,
   "id": "a9f7940c",
   "metadata": {},
   "outputs": [
    {
     "name": "stderr",
     "output_type": "stream",
     "text": [
      "warning: LF will be replaced by CRLF in Documents/Inr_DE_HSE/HW/HW_1/.ipynb_checkpoints/hw_1-checkpoint.ipynb.\n",
      "The file will have its original line endings in your working directory\n",
      "warning: LF will be replaced by CRLF in Documents/Inr_DE_HSE/HW/HW_1/hw_1.ipynb.\n",
      "The file will have its original line endings in your working directory\n",
      "warning: LF will be replaced by CRLF in Documents/Inr_DE_HSE/HW/HW_1/purchase_log.txt.\n",
      "The file will have its original line endings in your working directory\n"
     ]
    }
   ],
   "source": [
    "!git add ."
   ]
  },
  {
   "cell_type": "code",
   "execution_count": 20,
   "id": "df410377",
   "metadata": {},
   "outputs": [
    {
     "name": "stdout",
     "output_type": "stream",
     "text": [
      "[master (root-commit) 0c88e32] 'hw_1'\n",
      " 4 files changed, 100093 insertions(+)\n",
      " create mode 100644 Documents/Inr_DE_HSE/HW/HW_1/.ipynb_checkpoints/hw_1-checkpoint.ipynb\n",
      " create mode 100644 Documents/Inr_DE_HSE/HW/HW_1/hw_1.ipynb\n",
      " create mode 100644 Documents/Inr_DE_HSE/HW/HW_1/purchase_log.txt\n",
      " create mode 100644 Documents/Inr_DE_HSE/HW/HW_1/visit_log.xlsx\n"
     ]
    }
   ],
   "source": [
    "!git commit -m 'hw_1'"
   ]
  },
  {
   "cell_type": "code",
   "execution_count": null,
   "id": "f36bbd60",
   "metadata": {},
   "outputs": [],
   "source": [
    "!"
   ]
  }
 ],
 "metadata": {
  "kernelspec": {
   "display_name": "Python 3 (ipykernel)",
   "language": "python",
   "name": "python3"
  },
  "language_info": {
   "codemirror_mode": {
    "name": "ipython",
    "version": 3
   },
   "file_extension": ".py",
   "mimetype": "text/x-python",
   "name": "python",
   "nbconvert_exporter": "python",
   "pygments_lexer": "ipython3",
   "version": "3.11.5"
  }
 },
 "nbformat": 4,
 "nbformat_minor": 5
}
