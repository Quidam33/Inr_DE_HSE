{
 "cells": [
  {
   "cell_type": "code",
   "execution_count": 11,
   "id": "9d35ad33",
   "metadata": {},
   "outputs": [
    {
     "name": "stdout",
     "output_type": "stream",
     "text": [
      "Самое частое слово - 'love' (4 раза)\n"
     ]
    }
   ],
   "source": [
    "from pyspark.sql import SparkSession\n",
    "from pyspark.sql.functions import col, explode, split, lower, regexp_replace\n",
    "from nltk.corpus import stopwords\n",
    "\n",
    "spark = SparkSession.builder \\\n",
    "    .appName(\"Movie Word Count with Preprocessing\") \\\n",
    "    .getOrCreate()\n",
    "\n",
    "df = spark.read.csv(\"C:/Users/quatt/movies.csv\", header=True)\n",
    "\n",
    "words_df = df.select(\n",
    "    explode(\n",
    "        split(\n",
    "            regexp_replace(lower(col(\"Film\")), \"[^a-zA-Z0-9\\s]\", \"\"), \n",
    "            \"\\s+\"  \n",
    "        )\n",
    "    ).alias(\"word\")\n",
    ")\n",
    "\n",
    "stop_words = stopwords.words('english')\n",
    "words_df = words_df.filter(~col(\"word\").isin(stop_words))  \n",
    "\n",
    "word_counts = words_df.groupBy(\"word\").count()\n",
    "\n",
    "most_common_word = word_counts.orderBy(col(\"count\").desc()).first()\n",
    "\n",
    "print(f\"Самое частое слово - '{most_common_word['word']}' ({most_common_word['count']} раза)\")\n",
    "\n",
    "spark.stop()"
   ]
  },
  {
   "cell_type": "code",
   "execution_count": null,
   "id": "a4c59e47",
   "metadata": {},
   "outputs": [],
   "source": []
  }
 ],
 "metadata": {
  "kernelspec": {
   "display_name": "Python 3 (ipykernel)",
   "language": "python",
   "name": "python3"
  },
  "language_info": {
   "codemirror_mode": {
    "name": "ipython",
    "version": 3
   },
   "file_extension": ".py",
   "mimetype": "text/x-python",
   "name": "python",
   "nbconvert_exporter": "python",
   "pygments_lexer": "ipython3",
   "version": "3.11.5"
  }
 },
 "nbformat": 4,
 "nbformat_minor": 5
}
