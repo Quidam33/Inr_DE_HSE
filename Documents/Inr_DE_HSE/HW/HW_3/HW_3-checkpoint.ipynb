{
 "cells": [
  {
   "cell_type": "code",
   "execution_count": 56,
   "id": "6c2054c0",
   "metadata": {},
   "outputs": [],
   "source": [
    "from datetime import datetime\n",
    "import json\n",
    "\n",
    "class Account:\n",
    "    def __init__(self, owner_name, start_balance):\n",
    "        self.owner_name = owner_name\n",
    "        self.balance = start_balance\n",
    "        self.transactions = []\n",
    "        self.add_transaction(\"Счет открыт с начальным балансом\",\n",
    "                             start_balance,\n",
    "                             datetime.now().strftime(\"%d/%m/%Y %H:%M:%S\"))\n",
    "    \n",
    "    \n",
    "    def add_transaction(self, description, amount, status, reason=None):\n",
    "        \"\"\"Добавление записи в историю операций.\"\"\"\n",
    "        transaction = {\n",
    "            \"Описание\": description,\n",
    "            \"Сумма\": amount,\n",
    "            \"Баланс после проведения транзакции\": self.balance,\n",
    "            \"Дата операции\": datetime.now().strftime(\"%d/%m/%Y %H:%M:%S\"),\n",
    "            \"Статус\": status,\n",
    "            'Причина': reason\n",
    "        }\n",
    "        self.transactions.append(transaction)\n",
    "    \n",
    "    \n",
    "    def cash_inpayment(self, amount):\n",
    "        if isinstance(amount, (int, float)):\n",
    "            if amount > 0:\n",
    "                self.balance += amount\n",
    "                self.add_transaction(\"Поступление ДС\",\n",
    "                                     amount,\n",
    "                                     'SUCCESS')\n",
    "            else:\n",
    "                error_type = 'Сумма поступления ДС не может быть отрицательной'\n",
    "                self.add_transaction(\"Поступление ДС\",\n",
    "                                     amount,\n",
    "                                    'NOT SUCCESS',\n",
    "                                     error_type)\n",
    "                print(error_type)\n",
    "        else:\n",
    "            print('Неправильно введена сумма пополнения')\n",
    "            \n",
    "    \n",
    "    def cash_withdrawal(self, amount):\n",
    "        if isinstance(amount, (int, float)):\n",
    "            if 0 < amount <= self.balance:\n",
    "                self.balance -= amount\n",
    "                self.add_transaction(\"Снятие ДС\",\n",
    "                                     -amount,\n",
    "                                     'SUCCESS')\n",
    "            else:\n",
    "                error_type = 'Сумма снятия ДС не может быть отрицательной или превышать сумму баланса'\n",
    "                self.add_transaction(\"Снятие ДС\",\n",
    "                                     -amount,\n",
    "                                    'NOT SUCCESS',\n",
    "                                     error_type)\n",
    "                print(error_type)\n",
    "        else:          \n",
    "            print('Неправильно введена сумма снятия')\n",
    "            \n",
    "    \n",
    "    def get_transaction_history(self):\n",
    "        return self.transactions    \n",
    "    \n",
    "    "
   ]
  },
  {
   "cell_type": "code",
   "execution_count": 57,
   "id": "0c1a7986",
   "metadata": {},
   "outputs": [
    {
     "name": "stdout",
     "output_type": "stream",
     "text": [
      "{'Описание': 'Счет открыт с начальным балансом', 'Сумма': 1000, 'Баланс после проведения транзакции': 1000, 'Дата операции': '28/09/2024 13:29:48', 'Статус': '28/09/2024 13:29:48', 'Причина': None}\n",
      "{'Описание': 'Поступление ДС', 'Сумма': 200, 'Баланс после проведения транзакции': 1200, 'Дата операции': '28/09/2024 13:29:48', 'Статус': 'SUCCESS', 'Причина': None}\n",
      "{'Описание': 'Снятие ДС', 'Сумма': -150, 'Баланс после проведения транзакции': 1050, 'Дата операции': '28/09/2024 13:29:48', 'Статус': 'SUCCESS', 'Причина': None}\n"
     ]
    }
   ],
   "source": [
    "account_vasya = Account(\"Vasya Pupkin\", 1000)\n",
    "account_vasya.cash_inpayment(200)\n",
    "account_vasya.cash_withdrawal(150)\n",
    "for transaction in account_vasya.get_transaction_history():\n",
    "    print(transaction)"
   ]
  },
  {
   "cell_type": "code",
   "execution_count": 58,
   "id": "562a36dd",
   "metadata": {},
   "outputs": [
    {
     "name": "stdout",
     "output_type": "stream",
     "text": [
      "Неправильно введена сумма пополнения\n"
     ]
    }
   ],
   "source": [
    "account_petya = Account(\"Petya Gubkin\", 150)\n",
    "account_petya.cash_inpayment('test')"
   ]
  },
  {
   "cell_type": "code",
   "execution_count": 59,
   "id": "ce0d8145",
   "metadata": {},
   "outputs": [
    {
     "name": "stdout",
     "output_type": "stream",
     "text": [
      "Сумма снятия ДС не может быть отрицательной или превышать сумму баланса\n"
     ]
    }
   ],
   "source": [
    "account_petya.cash_inpayment(50)\n",
    "account_petya.cash_withdrawal(500)"
   ]
  },
  {
   "cell_type": "code",
   "execution_count": 60,
   "id": "f5e791c8",
   "metadata": {},
   "outputs": [
    {
     "name": "stdout",
     "output_type": "stream",
     "text": [
      "{'Описание': 'Счет открыт с начальным балансом', 'Сумма': 150, 'Баланс после проведения транзакции': 150, 'Дата операции': '28/09/2024 13:29:48', 'Статус': '28/09/2024 13:29:48', 'Причина': None}\n",
      "{'Описание': 'Поступление ДС', 'Сумма': 50, 'Баланс после проведения транзакции': 200, 'Дата операции': '28/09/2024 13:29:51', 'Статус': 'SUCCESS', 'Причина': None}\n",
      "{'Описание': 'Снятие ДС', 'Сумма': -500, 'Баланс после проведения транзакции': 200, 'Дата операции': '28/09/2024 13:29:51', 'Статус': 'NOT SUCCESS', 'Причина': 'Сумма снятия ДС не может быть отрицательной или превышать сумму баланса'}\n"
     ]
    }
   ],
   "source": [
    "for transaction in account_petya.get_transaction_history():\n",
    "    print(transaction)"
   ]
  },
  {
   "cell_type": "code",
   "execution_count": null,
   "id": "c2e0f51e",
   "metadata": {},
   "outputs": [],
   "source": []
  }
 ],
 "metadata": {
  "kernelspec": {
   "display_name": "Python 3 (ipykernel)",
   "language": "python",
   "name": "python3"
  },
  "language_info": {
   "codemirror_mode": {
    "name": "ipython",
    "version": 3
   },
   "file_extension": ".py",
   "mimetype": "text/x-python",
   "name": "python",
   "nbconvert_exporter": "python",
   "pygments_lexer": "ipython3",
   "version": "3.11.5"
  }
 },
 "nbformat": 4,
 "nbformat_minor": 5
}
